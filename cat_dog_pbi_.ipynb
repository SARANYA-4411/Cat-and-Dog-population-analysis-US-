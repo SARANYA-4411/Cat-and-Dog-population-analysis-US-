{
  "nbformat": 4,
  "nbformat_minor": 0,
  "metadata": {
    "colab": {
      "provenance": [],
      "authorship_tag": "ABX9TyM6QLkgDvwfoNnGFaLbou7f",
      "include_colab_link": true
    },
    "kernelspec": {
      "name": "python3",
      "display_name": "Python 3"
    },
    "language_info": {
      "name": "python"
    }
  },
  "cells": [
    {
      "cell_type": "markdown",
      "metadata": {
        "id": "view-in-github",
        "colab_type": "text"
      },
      "source": [
        "<a href=\"https://colab.research.google.com/github/SARANYA-4411/Cat-and-Dog-population-analysis-US-/blob/main/cat_dog_pbi_.ipynb\" target=\"_parent\"><img src=\"https://colab.research.google.com/assets/colab-badge.svg\" alt=\"Open In Colab\"/></a>"
      ]
    },
    {
      "cell_type": "markdown",
      "source": [
        "powerbi cat v/s dog population visualisation in powerbi \n",
        "\n",
        "[link text](https://app.powerbi.com/view?r=eyJrIjoiNTJiNzJlYmItN2QwMy00MzI0LTkyODctZTUyOTljNzA5ZDA2IiwidCI6ImU5OTM0Nzk0LTYzYmEtNGM1My1hODdlLTdiOGMwMmFmZmUyZCJ9)"
      ],
      "metadata": {
        "id": "UpyoaOVwNfuk"
      }
    },
    {
      "cell_type": "code",
      "execution_count": null,
      "metadata": {
        "id": "2xKf04ebNejo"
      },
      "outputs": [],
      "source": []
    }
  ]
}